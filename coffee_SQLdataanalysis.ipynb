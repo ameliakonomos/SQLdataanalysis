{
 "cells": [
  {
   "cell_type": "code",
   "execution_count": null,
   "id": "4df3d48d",
   "metadata": {},
   "outputs": [],
   "source": [
    "#quick analysis directly from database"
   ]
  },
  {
   "cell_type": "code",
   "execution_count": 45,
   "id": "3f75712d",
   "metadata": {},
   "outputs": [
    {
     "name": "stdout",
     "output_type": "stream",
     "text": [
      "done\n"
     ]
    }
   ],
   "source": [
    "import pandas as pd\n",
    "import sqlite3\n",
    "print('done')"
   ]
  },
  {
   "cell_type": "code",
   "execution_count": 50,
   "id": "325a100d",
   "metadata": {},
   "outputs": [
    {
     "name": "stdout",
     "output_type": "stream",
     "text": [
      "done\n"
     ]
    }
   ],
   "source": [
    "import os\n",
    "import pymysql\n",
    "import pandas as pd\n",
    "print('done')"
   ]
  },
  {
   "cell_type": "code",
   "execution_count": 53,
   "id": "84aedff2",
   "metadata": {},
   "outputs": [
    {
     "name": "stdout",
     "output_type": "stream",
     "text": [
      "Requirement already satisfied: ipython-sql in /Library/Frameworks/Python.framework/Versions/3.10/lib/python3.10/site-packages (0.4.1)\n",
      "Requirement already satisfied: sqlparse in /Library/Frameworks/Python.framework/Versions/3.10/lib/python3.10/site-packages (from ipython-sql) (0.4.2)\n",
      "Requirement already satisfied: prettytable<1 in /Library/Frameworks/Python.framework/Versions/3.10/lib/python3.10/site-packages (from ipython-sql) (0.7.2)\n",
      "Requirement already satisfied: six in /Library/Frameworks/Python.framework/Versions/3.10/lib/python3.10/site-packages (from ipython-sql) (1.16.0)\n",
      "Requirement already satisfied: sqlalchemy>=0.6.7 in /Library/Frameworks/Python.framework/Versions/3.10/lib/python3.10/site-packages (from ipython-sql) (1.4.40)\n",
      "Requirement already satisfied: ipython>=1.0 in /Library/Frameworks/Python.framework/Versions/3.10/lib/python3.10/site-packages (from ipython-sql) (8.4.0)\n",
      "Requirement already satisfied: ipython-genutils>=0.1.0 in /Library/Frameworks/Python.framework/Versions/3.10/lib/python3.10/site-packages (from ipython-sql) (0.2.0)\n",
      "Requirement already satisfied: traitlets>=5 in /Library/Frameworks/Python.framework/Versions/3.10/lib/python3.10/site-packages (from ipython>=1.0->ipython-sql) (5.3.0)\n",
      "Requirement already satisfied: jedi>=0.16 in /Library/Frameworks/Python.framework/Versions/3.10/lib/python3.10/site-packages (from ipython>=1.0->ipython-sql) (0.18.1)\n",
      "Requirement already satisfied: prompt-toolkit!=3.0.0,!=3.0.1,<3.1.0,>=2.0.0 in /Library/Frameworks/Python.framework/Versions/3.10/lib/python3.10/site-packages (from ipython>=1.0->ipython-sql) (3.0.30)\n",
      "Requirement already satisfied: pygments>=2.4.0 in /Library/Frameworks/Python.framework/Versions/3.10/lib/python3.10/site-packages (from ipython>=1.0->ipython-sql) (2.12.0)\n",
      "Requirement already satisfied: backcall in /Library/Frameworks/Python.framework/Versions/3.10/lib/python3.10/site-packages (from ipython>=1.0->ipython-sql) (0.2.0)\n",
      "Requirement already satisfied: appnope in /Library/Frameworks/Python.framework/Versions/3.10/lib/python3.10/site-packages (from ipython>=1.0->ipython-sql) (0.1.3)\n",
      "Requirement already satisfied: matplotlib-inline in /Library/Frameworks/Python.framework/Versions/3.10/lib/python3.10/site-packages (from ipython>=1.0->ipython-sql) (0.1.3)\n",
      "Requirement already satisfied: pickleshare in /Library/Frameworks/Python.framework/Versions/3.10/lib/python3.10/site-packages (from ipython>=1.0->ipython-sql) (0.7.5)\n",
      "Requirement already satisfied: pexpect>4.3 in /Library/Frameworks/Python.framework/Versions/3.10/lib/python3.10/site-packages (from ipython>=1.0->ipython-sql) (4.8.0)\n",
      "Requirement already satisfied: setuptools>=18.5 in /Library/Frameworks/Python.framework/Versions/3.10/lib/python3.10/site-packages (from ipython>=1.0->ipython-sql) (58.1.0)\n",
      "Requirement already satisfied: stack-data in /Library/Frameworks/Python.framework/Versions/3.10/lib/python3.10/site-packages (from ipython>=1.0->ipython-sql) (0.3.0)\n",
      "Requirement already satisfied: decorator in /Library/Frameworks/Python.framework/Versions/3.10/lib/python3.10/site-packages (from ipython>=1.0->ipython-sql) (5.1.1)\n",
      "Requirement already satisfied: greenlet!=0.4.17 in /Library/Frameworks/Python.framework/Versions/3.10/lib/python3.10/site-packages (from sqlalchemy>=0.6.7->ipython-sql) (1.1.3)\n",
      "Requirement already satisfied: parso<0.9.0,>=0.8.0 in /Library/Frameworks/Python.framework/Versions/3.10/lib/python3.10/site-packages (from jedi>=0.16->ipython>=1.0->ipython-sql) (0.8.3)\n",
      "Requirement already satisfied: ptyprocess>=0.5 in /Library/Frameworks/Python.framework/Versions/3.10/lib/python3.10/site-packages (from pexpect>4.3->ipython>=1.0->ipython-sql) (0.7.0)\n",
      "Requirement already satisfied: wcwidth in /Library/Frameworks/Python.framework/Versions/3.10/lib/python3.10/site-packages (from prompt-toolkit!=3.0.0,!=3.0.1,<3.1.0,>=2.0.0->ipython>=1.0->ipython-sql) (0.2.5)\n",
      "Requirement already satisfied: executing in /Library/Frameworks/Python.framework/Versions/3.10/lib/python3.10/site-packages (from stack-data->ipython>=1.0->ipython-sql) (0.8.3)\n",
      "Requirement already satisfied: asttokens in /Library/Frameworks/Python.framework/Versions/3.10/lib/python3.10/site-packages (from stack-data->ipython>=1.0->ipython-sql) (2.0.5)\n",
      "Requirement already satisfied: pure-eval in /Library/Frameworks/Python.framework/Versions/3.10/lib/python3.10/site-packages (from stack-data->ipython>=1.0->ipython-sql) (0.2.2)\n",
      "\u001b[33mWARNING: You are using pip version 22.0.4; however, version 22.2.2 is available.\n",
      "You should consider upgrading via the '/Library/Frameworks/Python.framework/Versions/3.10/bin/python3.10 -m pip install --upgrade pip' command.\u001b[0m\u001b[33m\n",
      "\u001b[0m"
     ]
    }
   ],
   "source": [
    "#install sql library\n",
    "!pip3 install ipython-sql"
   ]
  },
  {
   "cell_type": "code",
   "execution_count": 54,
   "id": "0591dbc1",
   "metadata": {},
   "outputs": [
    {
     "name": "stdout",
     "output_type": "stream",
     "text": [
      "                  name  rating Does this shop have wifi?  \\\n",
      "0   Ministry of Coffee     4.5                         Y   \n",
      "1        Espressoteric     4.5                         Y   \n",
      "2          Upside Down     5.0                         Y   \n",
      "3     Espresso profeta     4.5                         Y   \n",
      "4       Bluestone Lane     3.5                         Y   \n",
      "5        Elysee bakery     4.5                         Y   \n",
      "6        Alfred coffee     3.5                         Y   \n",
      "7            Starbucks     3.0                         Y   \n",
      "8                Junbi     4.5                         N   \n",
      "9              Comoncy     4.5                         N   \n",
      "10            Sharetea     4.5                         N   \n",
      "11     Lazy Daisy Cafe     4.0                         N   \n",
      "12     Kerchoff coffee     4.5                         Y   \n",
      "\n",
      "   Does this shop have outlets?  \n",
      "0                             Y  \n",
      "1                             Y  \n",
      "2                             Y  \n",
      "3                             N  \n",
      "4                             Y  \n",
      "5                             N  \n",
      "6                             N  \n",
      "7                             N  \n",
      "8                             N  \n",
      "9                             N  \n",
      "10                            N  \n",
      "11                            N  \n",
      "12                            Y  \n"
     ]
    }
   ],
   "source": [
    "df = pd.DataFrame({'name':['Ministry of Coffee', 'Espressoteric', \n",
    "                           'Upside Down', 'Espresso profeta', 'Bluestone Lane', \n",
    "                           'Elysee bakery', 'Alfred coffee', 'Starbucks', 'Junbi', \n",
    "                           'Comoncy', 'Sharetea', 'Lazy Daisy Cafe', 'Kerchoff coffee'],\n",
    "                   'rating':[4.5, 4.5, 5, 4.5, 3.5, 4.5, 3.5, 3, 4.5, 4.5, 4.5, 4, 4.5],\n",
    "                  'Does this shop have wifi?': ['Y','Y','Y','Y','Y','Y','Y','Y','N','N','N','N','Y'],\n",
    "                  'Does this shop have outlets?':['Y', 'Y', 'Y', 'N', 'Y', 'N', 'N', \n",
    "                                                  'N', 'N', 'N', 'N', 'N', 'Y']})\n",
    "print(df)"
   ]
  },
  {
   "cell_type": "code",
   "execution_count": null,
   "id": "74808edc",
   "metadata": {},
   "outputs": [],
   "source": []
  },
  {
   "cell_type": "code",
   "execution_count": 28,
   "id": "bd17ed2f",
   "metadata": {},
   "outputs": [
    {
     "name": "stdout",
     "output_type": "stream",
     "text": [
      "The sql extension is already loaded. To reload it, use:\n",
      "  %reload_ext sql\n"
     ]
    }
   ],
   "source": [
    "%load_ext sql"
   ]
  },
  {
   "cell_type": "code",
   "execution_count": 29,
   "id": "e763bbe7",
   "metadata": {},
   "outputs": [],
   "source": [
    "%sql sqlite:///jupyter_sqp.db"
   ]
  },
  {
   "cell_type": "code",
   "execution_count": 56,
   "id": "858697a0",
   "metadata": {},
   "outputs": [
    {
     "name": "stdout",
     "output_type": "stream",
     "text": [
      " * sqlite:///jupyter_sqp.db\n",
      "Done.\n"
     ]
    },
    {
     "data": {
      "text/html": [
       "<table>\n",
       "    <tr>\n",
       "        <th>index</th>\n",
       "        <th>name</th>\n",
       "        <th>rating</th>\n",
       "        <th>Does this shop have wifi?</th>\n",
       "        <th>Does this shop have outlets?</th>\n",
       "    </tr>\n",
       "    <tr>\n",
       "        <td>0</td>\n",
       "        <td>Ministry of Coffee</td>\n",
       "        <td>4.5</td>\n",
       "        <td>Y</td>\n",
       "        <td>Y</td>\n",
       "    </tr>\n",
       "    <tr>\n",
       "        <td>1</td>\n",
       "        <td>Espressoteric</td>\n",
       "        <td>4.5</td>\n",
       "        <td>Y</td>\n",
       "        <td>Y</td>\n",
       "    </tr>\n",
       "    <tr>\n",
       "        <td>2</td>\n",
       "        <td>Upside Down</td>\n",
       "        <td>5.0</td>\n",
       "        <td>Y</td>\n",
       "        <td>Y</td>\n",
       "    </tr>\n",
       "    <tr>\n",
       "        <td>3</td>\n",
       "        <td>Espresso profeta</td>\n",
       "        <td>4.5</td>\n",
       "        <td>Y</td>\n",
       "        <td>N</td>\n",
       "    </tr>\n",
       "    <tr>\n",
       "        <td>4</td>\n",
       "        <td>Bluestone Lane</td>\n",
       "        <td>3.5</td>\n",
       "        <td>Y</td>\n",
       "        <td>Y</td>\n",
       "    </tr>\n",
       "    <tr>\n",
       "        <td>5</td>\n",
       "        <td>Elysee bakery</td>\n",
       "        <td>4.5</td>\n",
       "        <td>Y</td>\n",
       "        <td>N</td>\n",
       "    </tr>\n",
       "    <tr>\n",
       "        <td>6</td>\n",
       "        <td>Alfred coffee</td>\n",
       "        <td>3.5</td>\n",
       "        <td>Y</td>\n",
       "        <td>N</td>\n",
       "    </tr>\n",
       "    <tr>\n",
       "        <td>7</td>\n",
       "        <td>Starbucks</td>\n",
       "        <td>3.0</td>\n",
       "        <td>Y</td>\n",
       "        <td>N</td>\n",
       "    </tr>\n",
       "    <tr>\n",
       "        <td>8</td>\n",
       "        <td>Junbi</td>\n",
       "        <td>4.5</td>\n",
       "        <td>N</td>\n",
       "        <td>N</td>\n",
       "    </tr>\n",
       "    <tr>\n",
       "        <td>9</td>\n",
       "        <td>Comoncy</td>\n",
       "        <td>4.5</td>\n",
       "        <td>N</td>\n",
       "        <td>N</td>\n",
       "    </tr>\n",
       "    <tr>\n",
       "        <td>10</td>\n",
       "        <td>Sharetea</td>\n",
       "        <td>4.5</td>\n",
       "        <td>N</td>\n",
       "        <td>N</td>\n",
       "    </tr>\n",
       "    <tr>\n",
       "        <td>11</td>\n",
       "        <td>Lazy Daisy Cafe</td>\n",
       "        <td>4.0</td>\n",
       "        <td>N</td>\n",
       "        <td>N</td>\n",
       "    </tr>\n",
       "    <tr>\n",
       "        <td>12</td>\n",
       "        <td>Kerchoff coffee</td>\n",
       "        <td>4.5</td>\n",
       "        <td>Y</td>\n",
       "        <td>Y</td>\n",
       "    </tr>\n",
       "</table>"
      ],
      "text/plain": [
       "[(0, 'Ministry of Coffee', 4.5, 'Y', 'Y'),\n",
       " (1, 'Espressoteric', 4.5, 'Y', 'Y'),\n",
       " (2, 'Upside Down', 5.0, 'Y', 'Y'),\n",
       " (3, 'Espresso profeta', 4.5, 'Y', 'N'),\n",
       " (4, 'Bluestone Lane', 3.5, 'Y', 'Y'),\n",
       " (5, 'Elysee bakery', 4.5, 'Y', 'N'),\n",
       " (6, 'Alfred coffee', 3.5, 'Y', 'N'),\n",
       " (7, 'Starbucks', 3.0, 'Y', 'N'),\n",
       " (8, 'Junbi', 4.5, 'N', 'N'),\n",
       " (9, 'Comoncy', 4.5, 'N', 'N'),\n",
       " (10, 'Sharetea', 4.5, 'N', 'N'),\n",
       " (11, 'Lazy Daisy Cafe', 4.0, 'N', 'N'),\n",
       " (12, 'Kerchoff coffee', 4.5, 'Y', 'Y')]"
      ]
     },
     "execution_count": 56,
     "metadata": {},
     "output_type": "execute_result"
    }
   ],
   "source": [
    "%%sql\n",
    "\n",
    "SELECT *\n",
    "FROM stores"
   ]
  },
  {
   "cell_type": "code",
   "execution_count": 60,
   "id": "965d72d0",
   "metadata": {},
   "outputs": [
    {
     "name": "stdout",
     "output_type": "stream",
     "text": [
      "done\n"
     ]
    }
   ],
   "source": [
    "host = os.getenv('MYSQL_HOST')\n",
    "port = os.getenv('MYSQL_PORT')\n",
    "user = os.getenv('MYSQL_USER')\n",
    "password = os.getenv('MYSQL_PASSWORD')\n",
    "database = os.getenv('MYSQL_DATABASE')\n",
    "print('done')"
   ]
  },
  {
   "cell_type": "code",
   "execution_count": 65,
   "id": "e9c09c05",
   "metadata": {},
   "outputs": [
    {
     "data": {
      "text/html": [
       "<div>\n",
       "<style scoped>\n",
       "    .dataframe tbody tr th:only-of-type {\n",
       "        vertical-align: middle;\n",
       "    }\n",
       "\n",
       "    .dataframe tbody tr th {\n",
       "        vertical-align: top;\n",
       "    }\n",
       "\n",
       "    .dataframe thead th {\n",
       "        text-align: right;\n",
       "    }\n",
       "</style>\n",
       "<table border=\"1\" class=\"dataframe\">\n",
       "  <thead>\n",
       "    <tr style=\"text-align: right;\">\n",
       "      <th></th>\n",
       "      <th>name</th>\n",
       "      <th>rating</th>\n",
       "      <th>Does this shop have wifi?</th>\n",
       "      <th>Does this shop have outlets?</th>\n",
       "    </tr>\n",
       "  </thead>\n",
       "  <tbody>\n",
       "    <tr>\n",
       "      <th>0</th>\n",
       "      <td>Ministry of Coffee</td>\n",
       "      <td>4.5</td>\n",
       "      <td>Y</td>\n",
       "      <td>Y</td>\n",
       "    </tr>\n",
       "    <tr>\n",
       "      <th>1</th>\n",
       "      <td>Espressoteric</td>\n",
       "      <td>4.5</td>\n",
       "      <td>Y</td>\n",
       "      <td>Y</td>\n",
       "    </tr>\n",
       "    <tr>\n",
       "      <th>2</th>\n",
       "      <td>Upside Down</td>\n",
       "      <td>5.0</td>\n",
       "      <td>Y</td>\n",
       "      <td>Y</td>\n",
       "    </tr>\n",
       "    <tr>\n",
       "      <th>3</th>\n",
       "      <td>Espresso profeta</td>\n",
       "      <td>4.5</td>\n",
       "      <td>Y</td>\n",
       "      <td>N</td>\n",
       "    </tr>\n",
       "    <tr>\n",
       "      <th>4</th>\n",
       "      <td>Bluestone Lane</td>\n",
       "      <td>3.5</td>\n",
       "      <td>Y</td>\n",
       "      <td>Y</td>\n",
       "    </tr>\n",
       "    <tr>\n",
       "      <th>5</th>\n",
       "      <td>Elysee bakery</td>\n",
       "      <td>4.5</td>\n",
       "      <td>Y</td>\n",
       "      <td>N</td>\n",
       "    </tr>\n",
       "    <tr>\n",
       "      <th>6</th>\n",
       "      <td>Alfred coffee</td>\n",
       "      <td>3.5</td>\n",
       "      <td>Y</td>\n",
       "      <td>N</td>\n",
       "    </tr>\n",
       "    <tr>\n",
       "      <th>7</th>\n",
       "      <td>Starbucks</td>\n",
       "      <td>3.0</td>\n",
       "      <td>Y</td>\n",
       "      <td>N</td>\n",
       "    </tr>\n",
       "    <tr>\n",
       "      <th>8</th>\n",
       "      <td>Junbi</td>\n",
       "      <td>4.5</td>\n",
       "      <td>N</td>\n",
       "      <td>N</td>\n",
       "    </tr>\n",
       "    <tr>\n",
       "      <th>9</th>\n",
       "      <td>Comoncy</td>\n",
       "      <td>4.5</td>\n",
       "      <td>N</td>\n",
       "      <td>N</td>\n",
       "    </tr>\n",
       "    <tr>\n",
       "      <th>10</th>\n",
       "      <td>Sharetea</td>\n",
       "      <td>4.5</td>\n",
       "      <td>N</td>\n",
       "      <td>N</td>\n",
       "    </tr>\n",
       "    <tr>\n",
       "      <th>11</th>\n",
       "      <td>Lazy Daisy Cafe</td>\n",
       "      <td>4.0</td>\n",
       "      <td>N</td>\n",
       "      <td>N</td>\n",
       "    </tr>\n",
       "    <tr>\n",
       "      <th>12</th>\n",
       "      <td>Kerchoff coffee</td>\n",
       "      <td>4.5</td>\n",
       "      <td>Y</td>\n",
       "      <td>Y</td>\n",
       "    </tr>\n",
       "  </tbody>\n",
       "</table>\n",
       "</div>"
      ],
      "text/plain": [
       "                  name  rating Does this shop have wifi?  \\\n",
       "0   Ministry of Coffee     4.5                         Y   \n",
       "1        Espressoteric     4.5                         Y   \n",
       "2          Upside Down     5.0                         Y   \n",
       "3     Espresso profeta     4.5                         Y   \n",
       "4       Bluestone Lane     3.5                         Y   \n",
       "5        Elysee bakery     4.5                         Y   \n",
       "6        Alfred coffee     3.5                         Y   \n",
       "7            Starbucks     3.0                         Y   \n",
       "8                Junbi     4.5                         N   \n",
       "9              Comoncy     4.5                         N   \n",
       "10            Sharetea     4.5                         N   \n",
       "11     Lazy Daisy Cafe     4.0                         N   \n",
       "12     Kerchoff coffee     4.5                         Y   \n",
       "\n",
       "   Does this shop have outlets?  \n",
       "0                             Y  \n",
       "1                             Y  \n",
       "2                             Y  \n",
       "3                             N  \n",
       "4                             Y  \n",
       "5                             N  \n",
       "6                             N  \n",
       "7                             N  \n",
       "8                             N  \n",
       "9                             N  \n",
       "10                            N  \n",
       "11                            N  \n",
       "12                            Y  "
      ]
     },
     "execution_count": 65,
     "metadata": {},
     "output_type": "execute_result"
    }
   ],
   "source": [
    "df.tail(13)"
   ]
  },
  {
   "cell_type": "code",
   "execution_count": 69,
   "id": "34831f94",
   "metadata": {},
   "outputs": [
    {
     "data": {
      "image/png": "[encoded data removed]",
      "text/plain": [
       "<Figure size 432x288 with 1 Axes>"
      ]
     },
     "metadata": {
      "needs_background": "light"
     },
     "output_type": "display_data"
    }
   ],
   "source": [
    "%matplotlib inline\n",
    "df.index = df['name']\n",
    "\n",
    "p = df.tail(12).plot.bar()"
   ]
  },
  {
   "cell_type": "code",
   "execution_count": null,
   "id": "7b6ca9df",
   "metadata": {},
   "outputs": [],
   "source": []
  }
 ],
 "metadata": {
  "kernelspec": {
   "display_name": "Python 3 (ipykernel)",
   "language": "python",
   "name": "python3"
  },
  "language_info": {
   "codemirror_mode": {
    "name": "ipython",
    "version": 3
   },
   "file_extension": ".py",
   "mimetype": "text/x-python",
   "name": "python",
   "nbconvert_exporter": "python",
   "pygments_lexer": "ipython3",
   "version": "3.10.5"
  }
 },
 "nbformat": 4,
 "nbformat_minor": 5
}
